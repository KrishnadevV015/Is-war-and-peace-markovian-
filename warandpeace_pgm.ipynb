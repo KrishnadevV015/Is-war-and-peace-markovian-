{
 "cells": [
  {
   "cell_type": "code",
   "execution_count": 163,
   "metadata": {},
   "outputs": [],
   "source": [
    "#To_read_the file\n",
    "f = open(\"warandpeace.txt\", \"r\")\n",
    "string=f.read()\n"
   ]
  },
  {
   "cell_type": "code",
   "execution_count": 164,
   "metadata": {},
   "outputs": [
    {
     "name": "stdout",
     "output_type": "stream",
     "text": [
      "26\n"
     ]
    }
   ],
   "source": [
    "vowels=['a','e','i','o','u']\n",
    "consonants=['b','c','d','f','g','h','j','k','l','m','n','p','q','r','s','t','v','w','x','y','z']\n",
    "print(len(vowels)+len(consonants))\n",
    "num_vowles=0\n",
    "num_consonants=0\n",
    "n=len(string)\n",
    "for s in string:\n",
    "    \n",
    "    if s in vowels:\n",
    "        num_vowles+=1\n",
    "    if s in consonants:\n",
    "        num_consonants+=1\n",
    "\n",
    "N_letters=num_consonants+num_vowles\n"
   ]
  },
  {
   "cell_type": "code",
   "execution_count": 166,
   "metadata": {},
   "outputs": [
    {
     "name": "stdout",
     "output_type": "stream",
     "text": [
      "Frequency of vowles is  0.38212972152489927\n",
      "Frequency of consonants is  0.6178702784751007\n"
     ]
    }
   ],
   "source": [
    "freq_vowels=num_vowles/N_letters\n",
    "freq_consonants=num_consonants/(N_letters)\n",
    "print('Frequency of vowles is ',freq_vowels)\n",
    "print('Frequency of consonants is ',freq_consonants)"
   ]
  },
  {
   "cell_type": "code",
   "execution_count": 169,
   "metadata": {},
   "outputs": [
    {
     "name": "stdout",
     "output_type": "stream",
     "text": [
      "The observed frequency and predicted probability (if occurences of c and v were independant) of the pair cc are 0.2921136999249666 and 0.3817636810228985\n",
      "The observed frequency and predicted probability (if occurences of c and v were independant) of the pair cv are 0.32521608637608285 and 0.2361065974522022\n",
      "The observed frequency and predicted probability (if occurences of c and v were independant) of the pair vc are 0.3251965971877101 and 0.2361065974522022\n",
      "The observed frequency and predicted probability (if occurences of c and v were independant) of the pair vv are 0.05747361651124039 and 0.14602312407269707\n"
     ]
    }
   ],
   "source": [
    "num_cv_pairs=0\n",
    "num_cc_pairs=0\n",
    "num_vv_pairs=0\n",
    "num_vc_pairs=0\n",
    "\n",
    "for i in range(n-1):\n",
    "    if string[i] in vowels and string[i+1] in vowels:\n",
    "        num_vv_pairs+=1\n",
    "    if string[i] in vowels and string[i+1] in consonants:\n",
    "        num_vc_pairs+=1\n",
    "    if string[i] in consonants and string[i+1] in vowels:\n",
    "        num_cv_pairs+=1\n",
    "    if string[i] in consonants and string[i+1] in consonants:\n",
    "        num_cc_pairs+=1\n",
    "    \n",
    "N=num_cc_pairs+num_cv_pairs+num_vc_pairs+num_vv_pairs\n",
    "\n",
    "freq_cc=num_cc_pairs/(N)\n",
    "freq_cv=num_cv_pairs/(N)\n",
    "freq_vc=num_vc_pairs/(N)\n",
    "freq_vv=num_vv_pairs/(N)\n",
    "freq_pairs_obs={'cc':freq_cc,'cv':freq_cv,'vc':freq_vc,'vv':freq_vv}\n",
    "vv_indep=freq_vowels*freq_vowels\n",
    "cv_indep=freq_consonants*freq_vowels\n",
    "vc_indep=freq_vowels*freq_consonants\n",
    "cc_indep=freq_consonants*freq_consonants\n",
    "indep_prediction_pair={'cc':cc_indep,'cv':cv_indep,'vc':vc_indep,'vv':vv_indep}\n",
    "pairs=['cc','cv','vc','vv']\n",
    "for pair in pairs:\n",
    "    print('The observed frequency and predicted probability (if occurences of c and v were independant) of the pair {} are {} and {}'.format(pair,freq_pairs_obs[pair],indep_prediction_pair[pair]))\n"
   ]
  },
  {
   "cell_type": "markdown",
   "metadata": {},
   "source": [
    "We can clearly see that the observed frequency of a pair is not equal to the product of probabilities of its constituents. Therefore, the occurance of consonants and vowels are not independant events."
   ]
  },
  {
   "cell_type": "code",
   "execution_count": 170,
   "metadata": {},
   "outputs": [
    {
     "name": "stdout",
     "output_type": "stream",
     "text": [
      "[-0.37661996  1.        ] [[-0.70710678 -0.52688863]\n",
      " [ 0.70710678 -0.84993433]]\n"
     ]
    }
   ],
   "source": [
    "from numpy.linalg import eig\n",
    "import numpy as np\n",
    "#Defining a transition matrix\n",
    "transition_matrix=np.array([[freq_vv/(freq_vv+freq_vc),freq_cv/(freq_cv+freq_cc)],[freq_vc/(freq_vc+freq_vv),freq_cc/(freq_cv+freq_cc)]])\n",
    "\n",
    "#computing the eigen values and eigen vectors of the transition matrix\n",
    "eig_values,eig_vectors=eig(transition_matrix)\n",
    "print(eig_values,eig_vectors)\n",
    "\n"
   ]
  },
  {
   "cell_type": "code",
   "execution_count": 171,
   "metadata": {},
   "outputs": [
    {
     "name": "stdout",
     "output_type": "stream",
     "text": [
      "[0.3826843709747313, 0.6173156290252688]\n"
     ]
    }
   ],
   "source": [
    "stab=eig_vectors[:,1]#taking the eigen vector corresponding to eigen value 1\n",
    "\n",
    "#normalising the eigen vector to represent probabilities\n",
    "stab1=stab[0]/(stab[0]+stab[1])\n",
    "stab2=stab[1]/(stab[0]+stab[1])\n",
    "\n",
    "print([stab1,stab2])"
   ]
  },
  {
   "cell_type": "markdown",
   "metadata": {},
   "source": [
    "We can see that the equlibrium frequency of vowels and consonants predicted using the transition matrix match with the observed frequency of vowels and consonants."
   ]
  },
  {
   "cell_type": "code",
   "execution_count": 172,
   "metadata": {},
   "outputs": [
    {
     "name": "stdout",
     "output_type": "stream",
     "text": [
      "1.0\n",
      "The observed probability and markov predictions of the triplet ccc are 0.09854783932544794 and 0.13834602689402814 respectively\n",
      "The observed probability and markov predictions of the triplet ccv are 0.19390443845883593 and 0.1540234280135202 respectively\n",
      "The observed probability and markov predictions of the triplet cvc are 0.2706503493773666 and 0.276613534099729 respectively\n",
      "The observed probability and markov predictions of the triplet cvv are 0.05502205566615919 and 0.04888728946782337 respectively\n",
      "The observed probability and markov predictions of the triplet vcc are 0.19342624038724285 and 0.153662128529783 respectively\n",
      "The observed probability and markov predictions of the triplet vcv are 0.1308896435960495 and 0.17107515353614364 respectively\n",
      "The observed probability and markov predictions of the triplet vvc are 0.05502205566615919 and 0.04877261241723543 respectively\n",
      "The observed probability and markov predictions of the triplet vvv are 0.002537377522738806 and 0.008619827041737221 respectively\n"
     ]
    }
   ],
   "source": [
    "n_ccc=0\n",
    "n_ccv=0\n",
    "n_cvc=0\n",
    "n_cvv=0\n",
    "n_vcc=0\n",
    "n_vcv=0\n",
    "n_vvc=0\n",
    "n_vvv=0\n",
    "for i in range(n-2):\n",
    "    if string[i] in consonants and string[i+1] in consonants and string[i+2] in consonants:\n",
    "        n_ccc+=1\n",
    "    if string[i] in consonants and string[i+1] in consonants and string[i+2] in vowels:\n",
    "        n_ccv+=1\n",
    "    if string[i] in consonants and string[i+1] in vowels and string[i+2] in consonants:\n",
    "        n_cvc+=1\n",
    "    if string[i] in consonants and string[i+1] in vowels and string[i+2] in vowels:\n",
    "        n_cvv+=1\n",
    "    if string[i] in vowels and string[i+1] in consonants and string[i+2] in consonants:\n",
    "        n_vcc+=1\n",
    "    if string[i] in vowels and string[i+1] in consonants and string[i+2] in vowels:\n",
    "        n_vcv+=1\n",
    "    if string[i] in vowels and string[i+1] in vowels and string[i+2] in consonants:\n",
    "        n_vvc+=1\n",
    "    if string[i] in vowels and string[i+1] in vowels and string[i+2] in vowels:\n",
    "        n_vvv+=1\n",
    "        \n",
    "num_triples=n_ccc+n_ccv+n_cvc+n_cvv+n_vcc+n_vcv+n_vvc+n_vvv\n",
    "freq_ccc=n_ccc/num_triples \n",
    "freq_ccv=n_ccv/num_triples \n",
    "freq_cvc=n_cvc/num_triples \n",
    "freq_cvv=n_cvv/num_triples \n",
    "freq_vcc=n_vcc/num_triples \n",
    "freq_vvc=n_vvc/num_triples \n",
    "freq_vcv=n_vcv/num_triples\n",
    "freq_vvv=n_vvv/num_triples \n",
    "#Markov_predictions\n",
    "prob_ccc=freq_consonants*transition_matrix[1][1]*transition_matrix[1][1]\n",
    "prob_ccv=freq_consonants*transition_matrix[1][1]*transition_matrix[0][1]\n",
    "prob_cvc=freq_consonants*transition_matrix[0][1]*transition_matrix[1][0]\n",
    "prob_cvv=freq_consonants*transition_matrix[0][1]*transition_matrix[0][0]\n",
    "prob_vcc=freq_vowels*transition_matrix[1][0]*transition_matrix[1][1]\n",
    "prob_vcv=freq_vowels*transition_matrix[1][0]*transition_matrix[0][1]\n",
    "prob_vvc=freq_vowels*transition_matrix[0][0]*transition_matrix[1][0]\n",
    "prob_vvv=freq_vowels*transition_matrix[0][0]*transition_matrix[0][0]\n",
    "print(prob_ccc+prob_ccv+prob_cvc+prob_cvv+prob_vcc+prob_vcv+prob_vvc+prob_vvv)\n",
    "triples_markov_prediction={'ccc':prob_ccc,'ccv':prob_ccv,'cvc':prob_cvc,'cvv':prob_cvv,'vcc':prob_vcc,'vcv':prob_vcv,'vvc':prob_vvc,'vvv':prob_vvv}\n",
    "triples_freq={'ccc':freq_ccc,'ccv':freq_ccv,'cvc':freq_cvc,'cvv':freq_cvv,'vcc':freq_vcc,'vcv':freq_vcv,'vvc':freq_vvc,'vvv':freq_vvv}\n",
    "triples=['ccc','ccv','cvc','cvv','vcc','vcv','vvc','vvv']\n",
    "for tri in triples:\n",
    "    print('The observed probability and markov predictions of the triplet {} are {} and {} respectively'.format(tri,triples_freq[tri],triples_markov_prediction[tri]))\n",
    "\n"
   ]
  },
  {
   "cell_type": "markdown",
   "metadata": {},
   "source": [
    "We can clearly see that the markov prediction for occurence of a particular triplet does not match with the observed frequency of that particular triplet."
   ]
  }
 ],
 "metadata": {
  "kernelspec": {
   "display_name": "Python 3",
   "language": "python",
   "name": "python3"
  },
  "language_info": {
   "codemirror_mode": {
    "name": "ipython",
    "version": 3
   },
   "file_extension": ".py",
   "mimetype": "text/x-python",
   "name": "python",
   "nbconvert_exporter": "python",
   "pygments_lexer": "ipython3",
   "version": "3.11.4"
  }
 },
 "nbformat": 4,
 "nbformat_minor": 2
}
